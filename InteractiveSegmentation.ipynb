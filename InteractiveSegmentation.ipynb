{
 "cells": [
  {
   "cell_type": "code",
   "execution_count": 1,
   "metadata": {},
   "outputs": [],
   "source": [
    "import os\n",
    "import sys\n",
    "import time\n",
    "from PIL import Image, ImageDraw\n",
    "import numpy as np\n",
    "import tensorflow as tf\n",
    "slim = tf.contrib.slim\n",
    "%matplotlib inline\n",
    "import matplotlib.pyplot as plt\n",
    "import matplotlib.image as mpimg\n",
    "import osvos\n",
    "from dataset import Dataset\n"
   ]
  },
  {
   "cell_type": "code",
   "execution_count": 2,
   "metadata": {},
   "outputs": [],
   "source": [
    "seq_name = \"bmx-trees\"\n",
    "file_name = seq_name+\"singledotr10-20ite\"\n",
    "test_frames = sorted(os.listdir(os.path.join('DAVIS', 'JPEGImages', '480p', seq_name)))\n",
    "test_imgs = [os.path.join('DAVIS', 'JPEGImages', '480p', seq_name, frame) for frame in test_frames]\n",
    "\n",
    "gpu_id = 0\n",
    "train_model = True \n",
    "\n",
    "result_path = os.path.join('DAVIS', 'Results', 'Segmentations', '480p', 'OSVOS', file_name)"
   ]
  },
  {
   "cell_type": "code",
   "execution_count": null,
   "metadata": {},
   "outputs": [],
   "source": [
    "# Train parameters\n",
    "parent_path = os.path.join('models', 'OSVOS_parent', 'OSVOS_parent.ckpt-50000')\n",
    "#logs_path = os.path.join('models', seq_name)\n",
    "\n",
    "logs_path = os.path.join('models', file_name)\n",
    "max_training_iters = 4\n",
    "\n",
    "osvos.train_init(parent_path, logs_path, max_training_iters,\n",
    "                                 save_step, display_step, global_step, iter_mean_grad=1, ckpt_name=seq_name, resume_training=True)\n",
    "\n",
    "if train_model:\n",
    "    train_imgs = [os.path.join('DAVIS', 'JPEGImages', '480p', seq_name, '00000.jpg')+' '+\n",
    "                  #os.path.join('DAVIS', 'Annotations', '480p', seq_name, '00000.png')]\n",
    "                  #os.path.join('DAVIS', 'Results', 'Segmentations', '480p', 'OSVOS', seq_name+'20', '00000.png')]\n",
    "                  os.path.join('DAVIS', 'Annotations', 'scribble', file_name, '00000.png')]\n",
    "    dataset = Dataset(train_imgs, test_imgs, './', data_aug=True)\n",
    "else:\n",
    "    dataset = Dataset(None, test_imgs, './')\n",
    "\n",
    "# Train the network\n",
    "if train_model:\n",
    "    # More training parameters\n",
    "    learning_rate = 1e-8\n",
    "    save_step = max_training_iters\n",
    "    side_supervision = 3\n",
    "    display_step = 2\n",
    "    duration = 0\n",
    "    with tf.Graph().as_default():\n",
    "        with tf.device('/gpu:' + str(gpu_id)):\n",
    "            global_step = tf.Variable(0, name='global_step', trainable=False)\n",
    "            start = time.time()\n",
    "            osvos.train_finetune(dataset, parent_path, side_supervision, learning_rate, logs_path, max_training_iters,\n",
    "                                 save_step, display_step, global_step, iter_mean_grad=1, ckpt_name=seq_name, resume_training=True)\n",
    "            duration = time.time()-start \n",
    "            print \"duration: %.3f\" % duration"
   ]
  },
  {
   "cell_type": "code",
   "execution_count": null,
   "metadata": {},
   "outputs": [],
   "source": []
  }
 ],
 "metadata": {
  "kernelspec": {
   "display_name": "Python 2",
   "language": "python",
   "name": "python2"
  },
  "language_info": {
   "codemirror_mode": {
    "name": "ipython",
    "version": 2
   },
   "file_extension": ".py",
   "mimetype": "text/x-python",
   "name": "python",
   "nbconvert_exporter": "python",
   "pygments_lexer": "ipython2",
   "version": "2.7.12"
  }
 },
 "nbformat": 4,
 "nbformat_minor": 2
}
