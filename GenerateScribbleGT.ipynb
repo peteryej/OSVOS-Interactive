{
 "cells": [
  {
   "cell_type": "code",
   "execution_count": 1,
   "metadata": {},
   "outputs": [],
   "source": [
    "\n",
    "import os\n",
    "import sys\n",
    "from PIL import Image, ImageDraw\n",
    "import numpy as np\n",
    "import matplotlib.lines as mlines\n",
    "import matplotlib.patches as mpatches\n",
    "%matplotlib inline\n",
    "import matplotlib.pyplot as plt\n",
    "import matplotlib.image as mpimg"
   ]
  },
  {
   "cell_type": "code",
   "execution_count": 2,
   "metadata": {},
   "outputs": [
    {
     "data": {
      "image/png": "[encoded data removed]",
      "text/plain": [
       "<matplotlib.figure.Figure at 0x7fb44d552fd0>"
      ]
     },
     "metadata": {},
     "output_type": "display_data"
    },
    {
     "name": "stdout",
     "output_type": "stream",
     "text": [
      "(480, 854, 3)\n"
     ]
    }
   ],
   "source": [
    "# draw scribble on GT\n",
    "seq_name = 'bmx-trees'\n",
    "\n",
    "GT_path = os.path.join('DAVIS', 'Annotations', '480p', seq_name)\n",
    "img=plt.imread(GT_path+ '/' +'00020.png')\n",
    "fig, ax = plt.subplots()\n",
    "\n",
    "ax.imshow(img)\n",
    "# line1 = mlines.Line2D([300, 410], [200, 260],lw=3, color='green', axes=ax)\n",
    "# line2 = mlines.Line2D([460, 550], [250, 260],lw=3, color='green', axes=ax)\n",
    "# ax.add_line(line1)\n",
    "# ax.add_line(line2)\n",
    "\n",
    "circle = mpatches.Circle((400,250), radius=10, color='yellow', ec=\"none\")\n",
    "ax.add_patch(circle)\n",
    "\n",
    "plt.show()\n",
    "\n",
    "print img.shape"
   ]
  },
  {
   "cell_type": "code",
   "execution_count": 3,
   "metadata": {
    "scrolled": true
   },
   "outputs": [
    {
     "data": {
      "image/png": "[encoded data removed]",
      "text/plain": [
       "<matplotlib.figure.Figure at 0x7fb44d552b90>"
      ]
     },
     "metadata": {},
     "output_type": "display_data"
    },
    {
     "data": {
      "image/png": "[encoded data removed]",
      "text/plain": [
       "<matplotlib.figure.Figure at 0x7fb44af3d1d0>"
      ]
     },
     "metadata": {},
     "output_type": "display_data"
    }
   ],
   "source": [
    "# create scribble img\n",
    "\n",
    "seq_name = 'bmx-trees'\n",
    "file_name = seq_name+'singledotr10-20'\n",
    "\n",
    "GT_path = os.path.join('DAVIS', 'Annotations', '480p', seq_name)\n",
    "ScribbleGT_path = os.path.join('DAVIS', 'Annotations', 'scribble', file_name)\n",
    "#ScribbleGT_path1 = os.path.join('DAVIS', 'Annotations', 'scribble', seq_name)\n",
    "if not os.path.exists(ScribbleGT_path):\n",
    "    os.makedirs(ScribbleGT_path)\n",
    "\n",
    "im = Image.new('RGB', (854, 480), (0, 0, 0)) \n",
    "draw = ImageDraw.Draw(im) \n",
    "# draw.line((355,230, 410,260), fill=(122,0,0), width=10)\n",
    "# draw.line((460,250, 505,255), fill=(122,0,0), width=10)  \n",
    "\n",
    "draw.ellipse((390,240, 410, 260), fill=(122,0,0))\n",
    "\n",
    "# for imgFile in os.listdir(GT_path):\n",
    "#     if (imgFile.endswith('.png')):\n",
    "#         frame_num = imgFile.split('.')[0]\n",
    "#         save_file = ScribbleGT_path+'/'+frame_num+'.png'\n",
    "#         im.save(save_file)\n",
    "        \n",
    "save_file = ScribbleGT_path+'/00020.png'\n",
    "im.save(save_file)\n",
    "\n",
    "img=mpimg.imread(ScribbleGT_path+'/00020.png')\n",
    "imgplot = plt.imshow(img)\n",
    "plt.show()\n",
    "\n",
    "img=mpimg.imread(GT_path+'/00020.png')\n",
    "imgplot = plt.imshow(img)\n",
    "plt.show()"
   ]
  },
  {
   "cell_type": "code",
   "execution_count": 7,
   "metadata": {
    "scrolled": true
   },
   "outputs": [
    {
     "name": "stdout",
     "output_type": "stream",
     "text": [
      "uint8\n",
      "uint8\n",
      "(480, 854, 3)\n",
      "(480, 854)\n",
      "[[122 122 122 122 122 122 122 122 122 122]\n",
      " [122 122 122 122 122 122 122 122 122 122]\n",
      " [122 122 122 122 122 122 122 122 122 122]\n",
      " [122 122 122 122 122 122 122 122 122 122]\n",
      " [122 122 122 122 122 122 122 122 122 122]\n",
      " [122 122 122 122 122 122 122 122 122 122]\n",
      " [122 122 122 122 122 122 122 122 122 122]\n",
      " [122 122 122 122 122 122 122 122 122 122]\n",
      " [122 122 122 122 122 122 122 122 122 122]\n",
      " [122 122 122 122 122 122 122 122 122 122]\n",
      " [122 122 122 122 122 122 122 122 122 122]\n",
      " [122 122 122 122 122 122 122 122 122 122]\n",
      " [122 122 122 122 122 122 122 122 122 122]\n",
      " [122 122 122 122 122 122 122 122 122 122]\n",
      " [122 122 122 122 122 122 122 122 122   0]\n",
      " [122 122 122 122 122 122 122 122 122   0]\n",
      " [122 122 122 122 122 122 122 122 122   0]\n",
      " [122 122 122 122 122 122 122 122 122   0]\n",
      " [122 122 122 122 122 122 122 122 122   0]\n",
      " [122 122 122 122 122 122 122 122 122   0]\n",
      " [122 122 122 122 122 122 122 122 122   0]\n",
      " [122 122 122 122 122 122 122 122 122   0]\n",
      " [122 122 122 122 122 122 122 122 122   0]\n",
      " [122 122 122 122 122 122 122 122 122   0]\n",
      " [122 122 122 122 122 122 122 122 122   0]\n",
      " [122 122 122 122 122 122 122 122 122   0]\n",
      " [122 122 122 122 122 122 122 122 122   0]\n",
      " [122 122 122 122 122 122 122 122 122   0]\n",
      " [122 122 122 122 122 122 122 122 122   0]\n",
      " [122 122 122 122 122 122 122 122 122   0]\n",
      " [122 122 122 122 122 122 122 122   0   0]\n",
      " [122 122 122 122 122 122 122 122   0   0]\n",
      " [122 122 122 122 122 122 122 122   0   0]\n",
      " [122 122 122 122 122 122 122 122   0   0]\n",
      " [122 122 122 122 122 122 122 122   0   0]\n",
      " [122 122 122 122 122 122 122 122   0   0]\n",
      " [122 122 122 122 122 122 122 122   0   0]\n",
      " [122 122 122 122 122 122 122 122   0   0]\n",
      " [122 122 122 122 122 122 122 122   0   0]\n",
      " [122 122 122 122 122 122 122 122   0   0]\n",
      " [122 122 122 122 122 122 122 122   0   0]\n",
      " [122 122 122 122 122 122 122 122   0   0]\n",
      " [122 122 122 122 122 122 122 122   0   0]\n",
      " [122 122 122 122 122 122 122 122   0   0]\n",
      " [122 122 122 122 122 122 122 122   0   0]\n",
      " [122 122 122 122 122 122 122 122   0   0]\n",
      " [122 122 122 122 122 122 122   0   0   0]\n",
      " [122 122 122 122 122 122 122   0   0   0]\n",
      " [122 122 122 122 122 122 122   0   0   0]\n",
      " [122 122 122 122 122 122 122   0   0   0]]\n"
     ]
    }
   ],
   "source": [
    "\n",
    "# test generated GT\n",
    "seq_name = 'bmx-trees'\n",
    "file_name = seq_name\n",
    "\n",
    "#GT_path = os.path.join('DAVIS', 'Annotations', '480p', seq_name)\n",
    "ScribbleGT_path = os.path.join('DAVIS', 'Annotations', 'scribble', file_name)\n",
    "#result_path = os.path.join('DAVIS', 'Results', 'Segmentations', '480p', 'OSVOS', file_name)\n",
    "\n",
    "img = np.array(Image.open(ScribbleGT_path+'/00000.png'))\n",
    "#label = np.array(Image.open(ScribbleGT_path+'/00000.png').split()[0], dtype=np.uint8)\n",
    "#img_result = np.array(Image.open(result_path+'/00000.png'))  \n",
    "img_result = np.array(Image.open('maskImage.png'))\n",
    "\n",
    "label = img[:,:,0]\n",
    "print img.dtype\n",
    "print img_result.dtype\n",
    "print img.shape\n",
    "print label.shape\n",
    "#print img[250:260,420:440]\n",
    "print label[250:300,450:460]\n",
    "\n",
    "#print img_result.shape\n",
    "#img_result = img_result/np.max(img_result)\n",
    "#print img_result[250:260,420:440]\n",
    "\n"
   ]
  },
  {
   "cell_type": "code",
   "execution_count": 5,
   "metadata": {},
   "outputs": [
    {
     "data": {
      "image/png": "[encoded data removed]",
      "text/plain": [
       "<matplotlib.figure.Figure at 0x7f4d8f558f50>"
      ]
     },
     "metadata": {},
     "output_type": "display_data"
    },
    {
     "name": "stdout",
     "output_type": "stream",
     "text": [
      "float32\n",
      "(480, 854, 3)\n"
     ]
    }
   ],
   "source": [
    "# draw scribble on GT\n",
    "seq_name = 'bmx-trees'\n",
    "\n",
    "GT_path = os.path.join('DAVIS', 'Annotations', '480p', seq_name)\n",
    "img=plt.imread(GT_path+ '/' +'00000.png')\n",
    "fig, ax = plt.subplots()\n",
    "\n",
    "ax.imshow(img)\n",
    "line1 = mlines.Line2D([460, 450], [160, 320],lw=3, color='yellow', axes=ax)\n",
    "#line2 = mlines.Line2D([460, 550], [250, 260],lw=3, color='green', axes=ax)\n",
    "ax.add_line(line1)\n",
    "#ax.add_line(line2)\n",
    "\n",
    "circle = mpatches.Circle((420,250), radius=10, color='yellow', ec=\"none\")\n",
    "ax.add_patch(circle)\n",
    "\n",
    "plt.show()\n",
    "print img.dtype\n",
    "print img.shape\n",
    "\n",
    "# img=plt.imread('maskImage.png')\n",
    "# fig, ax = plt.subplots()\n",
    "# ax.imshow(img)\n",
    "# plt.show()\n",
    "# print img.dtype\n",
    "# print img.shape"
   ]
  },
  {
   "cell_type": "code",
   "execution_count": 2,
   "metadata": {
    "scrolled": true
   },
   "outputs": [
    {
     "data": {
      "image/png": "[encoded data removed]",
      "text/plain": [
       "<matplotlib.figure.Figure at 0x7fe5299cb190>"
      ]
     },
     "metadata": {},
     "output_type": "display_data"
    }
   ],
   "source": [
    "# create scribble img\n",
    "\n",
    "seq_name = 'bmx-trees'\n",
    "file_name = seq_name+'singledotr10'\n",
    "\n",
    "GT_path = os.path.join('DAVIS', 'Annotations', '480p', seq_name)\n",
    "ScribbleGT_path = os.path.join('DAVIS', 'Annotations', 'scribble', file_name)\n",
    "#ScribbleGT_path1 = os.path.join('DAVIS', 'Annotations', 'scribble', seq_name)\n",
    "if not os.path.exists(ScribbleGT_path):\n",
    "    os.makedirs(ScribbleGT_path)\n",
    "\n",
    "im = Image.new('RGB', (854, 480), (0, 0, 0)) \n",
    "draw = ImageDraw.Draw(im) \n",
    "#draw.line((460,160, 450, 320), fill=(122,0,0), width=10)\n",
    "#draw.line((460, 160, 455, 240), fill=(122,0,0), width=10)  \n",
    "\n",
    "draw.ellipse((410,240, 430, 260), fill=(122,0,0))\n",
    "\n",
    "# for imgFile in os.listdir(GT_path):\n",
    "#     if (imgFile.endswith('.png')):\n",
    "#         frame_num = imgFile.split('.')[0]\n",
    "#         save_file = ScribbleGT_path+'/'+frame_num+'.png'\n",
    "#         im.save(save_file)\n",
    "\n",
    "\n",
    "# maskImage = np.array(im)\n",
    "# maskImage = maskImage[:,:,0]\n",
    "# print maskImage.shape\n",
    "# im = Image.fromarray(maskImage)\n",
    "\n",
    "print im.shape\n",
    "save_file = ScribbleGT_path+'/00000.png'\n",
    "im.save(save_file)\n",
    "\n",
    "\n",
    "img=mpimg.imread(save_file)\n",
    "imgplot = plt.imshow(img)\n",
    "plt.show()\n",
    "\n",
    "# img=mpimg.imread('maskImage.png')\n",
    "# imgplot = plt.imshow(img)\n",
    "# plt.show()\n"
   ]
  },
  {
   "cell_type": "code",
   "execution_count": null,
   "metadata": {},
   "outputs": [],
   "source": []
  }
 ],
 "metadata": {
  "kernelspec": {
   "display_name": "Python 2",
   "language": "python",
   "name": "python2"
  },
  "language_info": {
   "codemirror_mode": {
    "name": "ipython",
    "version": 2
   },
   "file_extension": ".py",
   "mimetype": "text/x-python",
   "name": "python",
   "nbconvert_exporter": "python",
   "pygments_lexer": "ipython2",
   "version": "2.7.12"
  }
 },
 "nbformat": 4,
 "nbformat_minor": 2
}
